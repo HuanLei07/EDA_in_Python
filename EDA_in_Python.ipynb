{
  "nbformat": 4,
  "nbformat_minor": 0,
  "metadata": {
    "colab": {
      "name": "EDA_in_Python.ipynb",
      "provenance": [],
      "collapsed_sections": []
    },
    "kernelspec": {
      "name": "python3",
      "display_name": "Python 3"
    }
  },
  "cells": [
    {
      "cell_type": "markdown",
      "metadata": {
        "id": "mXWs-epRveEi"
      },
      "source": [
        "## Read in the data"
      ]
    },
    {
      "cell_type": "code",
      "metadata": {
        "id": "ooghNY-avm52",
        "outputId": "c63c5c5b-5676-4d2a-fed3-f636fd56061f",
        "colab": {
          "base_uri": "https://localhost:8080/",
          "height": 224
        }
      },
      "source": [
        "import pandas as pd\n",
        "import numpy as np\n",
        "df = pd.read_csv('https://raw.githubusercontent.com/HuanLei07/EDA_in_Python/main/Data_sessions.csv')\n",
        "df.head()"
      ],
      "execution_count": 1,
      "outputs": [
        {
          "output_type": "execute_result",
          "data": {
            "text/html": [
              "<div>\n",
              "<style scoped>\n",
              "    .dataframe tbody tr th:only-of-type {\n",
              "        vertical-align: middle;\n",
              "    }\n",
              "\n",
              "    .dataframe tbody tr th {\n",
              "        vertical-align: top;\n",
              "    }\n",
              "\n",
              "    .dataframe thead th {\n",
              "        text-align: right;\n",
              "    }\n",
              "</style>\n",
              "<table border=\"1\" class=\"dataframe\">\n",
              "  <thead>\n",
              "    <tr style=\"text-align: right;\">\n",
              "      <th></th>\n",
              "      <th>session_id</th>\n",
              "      <th>customer_id</th>\n",
              "      <th>login_date</th>\n",
              "      <th>projects_added</th>\n",
              "      <th>likes_given</th>\n",
              "      <th>comment_given</th>\n",
              "      <th>inactive_status</th>\n",
              "      <th>bug_occured</th>\n",
              "      <th>session_projects_added</th>\n",
              "      <th>session_likes_given</th>\n",
              "      <th>session_comments_given</th>\n",
              "      <th>inactive_duration</th>\n",
              "      <th>bugs_in_session</th>\n",
              "      <th>session_duration</th>\n",
              "    </tr>\n",
              "  </thead>\n",
              "  <tbody>\n",
              "    <tr>\n",
              "      <th>0</th>\n",
              "      <td>624205</td>\n",
              "      <td>80746</td>\n",
              "      <td>10/30/19</td>\n",
              "      <td>False</td>\n",
              "      <td>True</td>\n",
              "      <td>True</td>\n",
              "      <td>True</td>\n",
              "      <td>False</td>\n",
              "      <td>0</td>\n",
              "      <td>24.0</td>\n",
              "      <td>3</td>\n",
              "      <td>1146</td>\n",
              "      <td>0</td>\n",
              "      <td>1564</td>\n",
              "    </tr>\n",
              "    <tr>\n",
              "      <th>1</th>\n",
              "      <td>624241</td>\n",
              "      <td>24520</td>\n",
              "      <td>10/30/19</td>\n",
              "      <td>True</td>\n",
              "      <td>True</td>\n",
              "      <td>True</td>\n",
              "      <td>True</td>\n",
              "      <td>False</td>\n",
              "      <td>2</td>\n",
              "      <td>3.0</td>\n",
              "      <td>5</td>\n",
              "      <td>133</td>\n",
              "      <td>0</td>\n",
              "      <td>1766</td>\n",
              "    </tr>\n",
              "    <tr>\n",
              "      <th>2</th>\n",
              "      <td>111002</td>\n",
              "      <td>32047</td>\n",
              "      <td>10/30/19</td>\n",
              "      <td>True</td>\n",
              "      <td>True</td>\n",
              "      <td>True</td>\n",
              "      <td>True</td>\n",
              "      <td>False</td>\n",
              "      <td>1</td>\n",
              "      <td>5.0</td>\n",
              "      <td>5</td>\n",
              "      <td>1571</td>\n",
              "      <td>0</td>\n",
              "      <td>2230</td>\n",
              "    </tr>\n",
              "    <tr>\n",
              "      <th>3</th>\n",
              "      <td>545113</td>\n",
              "      <td>23404</td>\n",
              "      <td>10/30/19</td>\n",
              "      <td>True</td>\n",
              "      <td>True</td>\n",
              "      <td>True</td>\n",
              "      <td>False</td>\n",
              "      <td>False</td>\n",
              "      <td>1</td>\n",
              "      <td>10.0</td>\n",
              "      <td>21</td>\n",
              "      <td>0</td>\n",
              "      <td>0</td>\n",
              "      <td>633</td>\n",
              "    </tr>\n",
              "    <tr>\n",
              "      <th>4</th>\n",
              "      <td>750269</td>\n",
              "      <td>40235</td>\n",
              "      <td>10/30/19</td>\n",
              "      <td>True</td>\n",
              "      <td>True</td>\n",
              "      <td>False</td>\n",
              "      <td>True</td>\n",
              "      <td>False</td>\n",
              "      <td>3</td>\n",
              "      <td>16.0</td>\n",
              "      <td>0</td>\n",
              "      <td>1405</td>\n",
              "      <td>0</td>\n",
              "      <td>1679</td>\n",
              "    </tr>\n",
              "  </tbody>\n",
              "</table>\n",
              "</div>"
            ],
            "text/plain": [
              "   session_id  customer_id  ... bugs_in_session  session_duration\n",
              "0      624205        80746  ...               0              1564\n",
              "1      624241        24520  ...               0              1766\n",
              "2      111002        32047  ...               0              2230\n",
              "3      545113        23404  ...               0               633\n",
              "4      750269        40235  ...               0              1679\n",
              "\n",
              "[5 rows x 14 columns]"
            ]
          },
          "metadata": {
            "tags": []
          },
          "execution_count": 1
        }
      ]
    },
    {
      "cell_type": "code",
      "metadata": {
        "id": "adN82wDXvc0A",
        "outputId": "ef1198ea-5b29-4aad-e849-4f1dfdcf597c",
        "colab": {
          "base_uri": "https://localhost:8080/"
        }
      },
      "source": [
        "df.shape"
      ],
      "execution_count": 2,
      "outputs": [
        {
          "output_type": "execute_result",
          "data": {
            "text/plain": [
              "(300, 14)"
            ]
          },
          "metadata": {
            "tags": []
          },
          "execution_count": 2
        }
      ]
    },
    {
      "cell_type": "markdown",
      "metadata": {
        "id": "jvzP70BvxBlQ"
      },
      "source": [
        "There are 300 observations and 14 variables in Data_sessions dataset. "
      ]
    },
    {
      "cell_type": "markdown",
      "metadata": {
        "id": "NKqpeuCrxQwM"
      },
      "source": [
        "## Evaluating for Missing Data"
      ]
    },
    {
      "cell_type": "code",
      "metadata": {
        "id": "bG2bZjclxGT5",
        "outputId": "1a929c7e-b0ef-4e6a-e66a-04c7e0b433fb",
        "colab": {
          "base_uri": "https://localhost:8080/",
          "height": 100
        }
      },
      "source": [
        "missing_data = df[df.isnull().any(axis = 1)]\n",
        "missing_data"
      ],
      "execution_count": 3,
      "outputs": [
        {
          "output_type": "execute_result",
          "data": {
            "text/html": [
              "<div>\n",
              "<style scoped>\n",
              "    .dataframe tbody tr th:only-of-type {\n",
              "        vertical-align: middle;\n",
              "    }\n",
              "\n",
              "    .dataframe tbody tr th {\n",
              "        vertical-align: top;\n",
              "    }\n",
              "\n",
              "    .dataframe thead th {\n",
              "        text-align: right;\n",
              "    }\n",
              "</style>\n",
              "<table border=\"1\" class=\"dataframe\">\n",
              "  <thead>\n",
              "    <tr style=\"text-align: right;\">\n",
              "      <th></th>\n",
              "      <th>session_id</th>\n",
              "      <th>customer_id</th>\n",
              "      <th>login_date</th>\n",
              "      <th>projects_added</th>\n",
              "      <th>likes_given</th>\n",
              "      <th>comment_given</th>\n",
              "      <th>inactive_status</th>\n",
              "      <th>bug_occured</th>\n",
              "      <th>session_projects_added</th>\n",
              "      <th>session_likes_given</th>\n",
              "      <th>session_comments_given</th>\n",
              "      <th>inactive_duration</th>\n",
              "      <th>bugs_in_session</th>\n",
              "      <th>session_duration</th>\n",
              "    </tr>\n",
              "  </thead>\n",
              "  <tbody>\n",
              "    <tr>\n",
              "      <th>35</th>\n",
              "      <td>862128</td>\n",
              "      <td>23404</td>\n",
              "      <td>10/26/19</td>\n",
              "      <td>True</td>\n",
              "      <td>False</td>\n",
              "      <td>True</td>\n",
              "      <td>True</td>\n",
              "      <td>False</td>\n",
              "      <td>2</td>\n",
              "      <td>NaN</td>\n",
              "      <td>2</td>\n",
              "      <td>1120</td>\n",
              "      <td>0</td>\n",
              "      <td>95</td>\n",
              "    </tr>\n",
              "  </tbody>\n",
              "</table>\n",
              "</div>"
            ],
            "text/plain": [
              "    session_id  customer_id  ... bugs_in_session  session_duration\n",
              "35      862128        23404  ...               0                95\n",
              "\n",
              "[1 rows x 14 columns]"
            ]
          },
          "metadata": {
            "tags": []
          },
          "execution_count": 3
        }
      ]
    },
    {
      "cell_type": "code",
      "metadata": {
        "id": "Azh26lHYxcLn",
        "outputId": "6f836a76-ed03-4db4-b220-5b9926fa16bd",
        "colab": {
          "base_uri": "https://localhost:8080/"
        }
      },
      "source": [
        "df.dropna(subset = ['session_likes_given'], axis = 0, inplace = True)\n",
        "df.shape"
      ],
      "execution_count": 4,
      "outputs": [
        {
          "output_type": "execute_result",
          "data": {
            "text/plain": [
              "(299, 14)"
            ]
          },
          "metadata": {
            "tags": []
          },
          "execution_count": 4
        }
      ]
    },
    {
      "cell_type": "code",
      "metadata": {
        "id": "Gu8nX1ipzjRv",
        "outputId": "462c7358-a218-4dd1-957f-01887ee5ee06",
        "colab": {
          "base_uri": "https://localhost:8080/"
        }
      },
      "source": [
        "# list the data types for each column\n",
        "print(df.dtypes)"
      ],
      "execution_count": 5,
      "outputs": [
        {
          "output_type": "stream",
          "text": [
            "session_id                  int64\n",
            "customer_id                 int64\n",
            "login_date                 object\n",
            "projects_added               bool\n",
            "likes_given                  bool\n",
            "comment_given                bool\n",
            "inactive_status              bool\n",
            "bug_occured                  bool\n",
            "session_projects_added      int64\n",
            "session_likes_given       float64\n",
            "session_comments_given      int64\n",
            "inactive_duration           int64\n",
            "bugs_in_session             int64\n",
            "session_duration            int64\n",
            "dtype: object\n"
          ],
          "name": "stdout"
        }
      ]
    },
    {
      "cell_type": "markdown",
      "metadata": {
        "id": "S13NYLnqy5vZ"
      },
      "source": [
        "There is one missing data point in the dataset, so we could simply delete it. In the clean dataset, there are 299 observations and 14 variables, including 7 integer, 1 float, 5 logical varialbes and 1 factor data types. "
      ]
    },
    {
      "cell_type": "code",
      "metadata": {
        "id": "TcPWQdja3x5a",
        "outputId": "1396be53-2bd1-46df-b8a0-233cfd2da654",
        "colab": {
          "base_uri": "https://localhost:8080/",
          "height": 297
        }
      },
      "source": [
        "# general information about the distribution of the dataset\n",
        "df.describe()"
      ],
      "execution_count": 6,
      "outputs": [
        {
          "output_type": "execute_result",
          "data": {
            "text/html": [
              "<div>\n",
              "<style scoped>\n",
              "    .dataframe tbody tr th:only-of-type {\n",
              "        vertical-align: middle;\n",
              "    }\n",
              "\n",
              "    .dataframe tbody tr th {\n",
              "        vertical-align: top;\n",
              "    }\n",
              "\n",
              "    .dataframe thead th {\n",
              "        text-align: right;\n",
              "    }\n",
              "</style>\n",
              "<table border=\"1\" class=\"dataframe\">\n",
              "  <thead>\n",
              "    <tr style=\"text-align: right;\">\n",
              "      <th></th>\n",
              "      <th>session_id</th>\n",
              "      <th>customer_id</th>\n",
              "      <th>session_projects_added</th>\n",
              "      <th>session_likes_given</th>\n",
              "      <th>session_comments_given</th>\n",
              "      <th>inactive_duration</th>\n",
              "      <th>bugs_in_session</th>\n",
              "      <th>session_duration</th>\n",
              "    </tr>\n",
              "  </thead>\n",
              "  <tbody>\n",
              "    <tr>\n",
              "      <th>count</th>\n",
              "      <td>299.000000</td>\n",
              "      <td>299.000000</td>\n",
              "      <td>299.000000</td>\n",
              "      <td>299.000000</td>\n",
              "      <td>299.000000</td>\n",
              "      <td>299.000000</td>\n",
              "      <td>299.000000</td>\n",
              "      <td>299.000000</td>\n",
              "    </tr>\n",
              "    <tr>\n",
              "      <th>mean</th>\n",
              "      <td>529534.652174</td>\n",
              "      <td>45028.849498</td>\n",
              "      <td>1.618729</td>\n",
              "      <td>10.458194</td>\n",
              "      <td>2.408027</td>\n",
              "      <td>731.638796</td>\n",
              "      <td>1.237458</td>\n",
              "      <td>1190.414716</td>\n",
              "    </tr>\n",
              "    <tr>\n",
              "      <th>std</th>\n",
              "      <td>280232.153769</td>\n",
              "      <td>26426.038013</td>\n",
              "      <td>1.336799</td>\n",
              "      <td>9.474839</td>\n",
              "      <td>2.251190</td>\n",
              "      <td>839.247660</td>\n",
              "      <td>1.759100</td>\n",
              "      <td>686.871418</td>\n",
              "    </tr>\n",
              "    <tr>\n",
              "      <th>min</th>\n",
              "      <td>22885.000000</td>\n",
              "      <td>10246.000000</td>\n",
              "      <td>0.000000</td>\n",
              "      <td>0.000000</td>\n",
              "      <td>0.000000</td>\n",
              "      <td>0.000000</td>\n",
              "      <td>0.000000</td>\n",
              "      <td>10.000000</td>\n",
              "    </tr>\n",
              "    <tr>\n",
              "      <th>25%</th>\n",
              "      <td>307856.000000</td>\n",
              "      <td>23579.000000</td>\n",
              "      <td>1.000000</td>\n",
              "      <td>0.000000</td>\n",
              "      <td>0.500000</td>\n",
              "      <td>0.000000</td>\n",
              "      <td>0.000000</td>\n",
              "      <td>614.000000</td>\n",
              "    </tr>\n",
              "    <tr>\n",
              "      <th>50%</th>\n",
              "      <td>552796.000000</td>\n",
              "      <td>39475.000000</td>\n",
              "      <td>2.000000</td>\n",
              "      <td>9.000000</td>\n",
              "      <td>2.000000</td>\n",
              "      <td>312.000000</td>\n",
              "      <td>0.000000</td>\n",
              "      <td>1152.000000</td>\n",
              "    </tr>\n",
              "    <tr>\n",
              "      <th>75%</th>\n",
              "      <td>802738.000000</td>\n",
              "      <td>73245.000000</td>\n",
              "      <td>3.000000</td>\n",
              "      <td>19.000000</td>\n",
              "      <td>4.000000</td>\n",
              "      <td>1525.500000</td>\n",
              "      <td>2.500000</td>\n",
              "      <td>1778.000000</td>\n",
              "    </tr>\n",
              "    <tr>\n",
              "      <th>max</th>\n",
              "      <td>999480.000000</td>\n",
              "      <td>98653.000000</td>\n",
              "      <td>9.000000</td>\n",
              "      <td>27.000000</td>\n",
              "      <td>21.000000</td>\n",
              "      <td>2480.000000</td>\n",
              "      <td>5.000000</td>\n",
              "      <td>2395.000000</td>\n",
              "    </tr>\n",
              "  </tbody>\n",
              "</table>\n",
              "</div>"
            ],
            "text/plain": [
              "          session_id   customer_id  ...  bugs_in_session  session_duration\n",
              "count     299.000000    299.000000  ...       299.000000        299.000000\n",
              "mean   529534.652174  45028.849498  ...         1.237458       1190.414716\n",
              "std    280232.153769  26426.038013  ...         1.759100        686.871418\n",
              "min     22885.000000  10246.000000  ...         0.000000         10.000000\n",
              "25%    307856.000000  23579.000000  ...         0.000000        614.000000\n",
              "50%    552796.000000  39475.000000  ...         0.000000       1152.000000\n",
              "75%    802738.000000  73245.000000  ...         2.500000       1778.000000\n",
              "max    999480.000000  98653.000000  ...         5.000000       2395.000000\n",
              "\n",
              "[8 rows x 8 columns]"
            ]
          },
          "metadata": {
            "tags": []
          },
          "execution_count": 6
        }
      ]
    },
    {
      "cell_type": "markdown",
      "metadata": {
        "id": "06Vo0mKIz_Of"
      },
      "source": [
        "## Data Visualization\n",
        "Analyzing Individual Feature Patterns using Visualization"
      ]
    },
    {
      "cell_type": "code",
      "metadata": {
        "id": "i_H7ogkRydjk"
      },
      "source": [
        "import matplotlib.pyplot as plt\n",
        "import seaborn as sns\n",
        "from matplotlib.ticker import PercentFormatter\n",
        "%matplotlib inline "
      ],
      "execution_count": 8,
      "outputs": []
    },
    {
      "cell_type": "code",
      "metadata": {
        "id": "Fkq0QVIm0PgE",
        "outputId": "d1fb051c-658d-4b4d-e857-7263f77f3e30",
        "colab": {
          "base_uri": "https://localhost:8080/",
          "height": 317
        }
      },
      "source": [
        "# number of sessions each user had in October 2019\n",
        "df['customer_id'].value_counts().plot(kind = 'bar')\n",
        "plt.title(\"Number of Sessions by Each User\")\n",
        "plt.xlabel(\"User ID\")\n",
        "plt.ylabel(\"Number of Sessions\");"
      ],
      "execution_count": 9,
      "outputs": [
        {
          "output_type": "display_data",
          "data": {
            "image/png": "[encoded data removed]",
            "text/plain": [
              "<Figure size 432x288 with 1 Axes>"
            ]
          },
          "metadata": {
            "tags": [],
            "needs_background": "light"
          }
        }
      ]
    },
    {
      "cell_type": "code",
      "metadata": {
        "id": "9B3Y5q_Fozjg",
        "outputId": "fbb90be2-9295-4a9f-d49a-6f8982ce543e",
        "colab": {
          "base_uri": "https://localhost:8080/"
        }
      },
      "source": [
        "df['customer_id'].value_counts().median()"
      ],
      "execution_count": 10,
      "outputs": [
        {
          "output_type": "execute_result",
          "data": {
            "text/plain": [
              "4.5"
            ]
          },
          "metadata": {
            "tags": []
          },
          "execution_count": 10
        }
      ]
    },
    {
      "cell_type": "code",
      "metadata": {
        "id": "Ndzbt2Qgp65K",
        "outputId": "def9c34e-f1ba-498d-fb13-7555d7afe0f8",
        "colab": {
          "base_uri": "https://localhost:8080/"
        }
      },
      "source": [
        "df['customer_id'].value_counts()"
      ],
      "execution_count": 11,
      "outputs": [
        {
          "output_type": "execute_result",
          "data": {
            "text/plain": [
              "29375    22\n",
              "23404    20\n",
              "38459    18\n",
              "40235    17\n",
              "87323    17\n",
              "40572    16\n",
              "14354    15\n",
              "73245    15\n",
              "51243    12\n",
              "87265    12\n",
              "23083    11\n",
              "23985     8\n",
              "12407     8\n",
              "73524     8\n",
              "34574     7\n",
              "43549     7\n",
              "96254     7\n",
              "43057     6\n",
              "12496     6\n",
              "29356     6\n",
              "98653     6\n",
              "12940     5\n",
              "23579     5\n",
              "43086     5\n",
              "93464     4\n",
              "39475     4\n",
              "80746     4\n",
              "10246     4\n",
              "32047     4\n",
              "24520     2\n",
              "68754     1\n",
              "23596     1\n",
              "82963     1\n",
              "76530     1\n",
              "19374     1\n",
              "98476     1\n",
              "98346     1\n",
              "23457     1\n",
              "93486     1\n",
              "43658     1\n",
              "33496     1\n",
              "19348     1\n",
              "92736     1\n",
              "20548     1\n",
              "46329     1\n",
              "23548     1\n",
              "29345     1\n",
              "43096     1\n",
              "Name: customer_id, dtype: int64"
            ]
          },
          "metadata": {
            "tags": []
          },
          "execution_count": 11
        }
      ]
    },
    {
      "cell_type": "code",
      "metadata": {
        "id": "TrxDu7_apHnC",
        "outputId": "afe979df-665f-42b3-cd9a-99a51f69ffeb",
        "colab": {
          "base_uri": "https://localhost:8080/"
        }
      },
      "source": [
        "len(df['customer_id'].unique())"
      ],
      "execution_count": 12,
      "outputs": [
        {
          "output_type": "execute_result",
          "data": {
            "text/plain": [
              "48"
            ]
          },
          "metadata": {
            "tags": []
          },
          "execution_count": 12
        }
      ]
    },
    {
      "cell_type": "code",
      "metadata": {
        "id": "pJS767WCpbLo",
        "outputId": "589c267a-9ed0-4811-c789-a4f1d119b989",
        "colab": {
          "base_uri": "https://localhost:8080/",
          "height": 34
        }
      },
      "source": [
        "1 - 18 /48"
      ],
      "execution_count": null,
      "outputs": [
        {
          "output_type": "execute_result",
          "data": {
            "text/plain": [
              "0.625"
            ]
          },
          "metadata": {
            "tags": []
          },
          "execution_count": 202
        }
      ]
    },
    {
      "cell_type": "markdown",
      "metadata": {
        "id": "JLJjaVOeoxRI"
      },
      "source": [
        "48 users logged into their accounts, among which 62.5% users logged more than once, which means good engagement. The median of number of logging into the account is 4.5."
      ]
    },
    {
      "cell_type": "code",
      "metadata": {
        "id": "3OJRfp2s5iCt",
        "outputId": "ed5211c9-8772-4bcf-cbaa-aa5f7e2d6f7e",
        "colab": {
          "base_uri": "https://localhost:8080/"
        }
      },
      "source": [
        "df.columns"
      ],
      "execution_count": 13,
      "outputs": [
        {
          "output_type": "execute_result",
          "data": {
            "text/plain": [
              "Index(['session_id', 'customer_id', 'login_date', 'projects_added',\n",
              "       'likes_given', 'comment_given', 'inactive_status', 'bug_occured',\n",
              "       'session_projects_added', 'session_likes_given',\n",
              "       'session_comments_given', 'inactive_duration', 'bugs_in_session',\n",
              "       'session_duration'],\n",
              "      dtype='object')"
            ]
          },
          "metadata": {
            "tags": []
          },
          "execution_count": 13
        }
      ]
    },
    {
      "cell_type": "code",
      "metadata": {
        "id": "N9lcfWkn2Y3v",
        "outputId": "6d0f44d1-aff4-4358-a051-fec05e2c31de",
        "colab": {
          "base_uri": "https://localhost:8080/",
          "height": 331
        }
      },
      "source": [
        "# distribution of sessions in October 2019\n",
        "plt.style.use('bmh')\n",
        "\n",
        "fig, ax = plt.subplots()\n",
        "\n",
        "g = sns.countplot(x = 'login_date',\n",
        "              data = df)\n",
        "plt.xticks(rotation = 90)\n",
        "g.set_title('Number of Sessions on Each Day')\n",
        "plt.show()"
      ],
      "execution_count": null,
      "outputs": [
        {
          "output_type": "display_data",
          "data": {
            "image/png": "[encoded data removed]",
            "text/plain": [
              "<Figure size 432x288 with 1 Axes>"
            ]
          },
          "metadata": {
            "tags": [],
            "needs_background": "light"
          }
        }
      ]
    },
    {
      "cell_type": "code",
      "metadata": {
        "id": "6cKZ-3i5vW-R",
        "outputId": "9fcfd233-4548-435d-fcd3-790985969a52",
        "colab": {
          "base_uri": "https://localhost:8080/",
          "height": 34
        }
      },
      "source": [
        "df['login_date'].value_counts().median()"
      ],
      "execution_count": null,
      "outputs": [
        {
          "output_type": "execute_result",
          "data": {
            "text/plain": [
              "10.0"
            ]
          },
          "metadata": {
            "tags": []
          },
          "execution_count": 214
        }
      ]
    },
    {
      "cell_type": "markdown",
      "metadata": {
        "id": "1Un1J4fI3lak"
      },
      "source": [
        "It shows on 10/26/2019, the number of sessions was the maximum with 21 sessions. The median number of sessions created is 10. Sessions on first half of the month slightly more than the second half in October 2019. "
      ]
    },
    {
      "cell_type": "markdown",
      "metadata": {
        "id": "t5jQUlGJHVmu"
      },
      "source": [
        "> ### **Projects**"
      ]
    },
    {
      "cell_type": "code",
      "metadata": {
        "id": "eWWdVNWN-Eox",
        "outputId": "d85135c6-2e10-4cab-b95d-27b9b050ee18",
        "colab": {
          "base_uri": "https://localhost:8080/",
          "height": 296
        }
      },
      "source": [
        "# sessions with projects added or not in October 2019\n",
        "plt.style.use('bmh')\n",
        "\n",
        "fig, ax = plt.subplots()\n",
        "\n",
        "g = sns.countplot(y = 'projects_added', \n",
        "                  data = df)\n",
        "\n",
        "total = len(df['projects_added'])\n",
        "for p in ax.patches:\n",
        "        percentage = '{:.1f}%'.format(100 * p.get_width()/total)\n",
        "        x = p.get_x() + p.get_width() + 0.02\n",
        "        y = p.get_y() + p.get_height()/2\n",
        "        ax.annotate(percentage, (x, y))\n",
        "\n",
        "g.set_title('Sessions with Projects added or not')\n",
        "plt.show()"
      ],
      "execution_count": null,
      "outputs": [
        {
          "output_type": "display_data",
          "data": {
            "image/png": "[encoded data removed]",
            "text/plain": [
              "<Figure size 432x288 with 1 Axes>"
            ]
          },
          "metadata": {
            "tags": [],
            "needs_background": "light"
          }
        }
      ]
    },
    {
      "cell_type": "code",
      "metadata": {
        "id": "AQ5tMBwGBzFe",
        "outputId": "9b3248c6-c738-4197-cedf-b5c7d85f7e8d",
        "colab": {
          "base_uri": "https://localhost:8080/",
          "height": 296
        }
      },
      "source": [
        "# distribution of count of projects added in October 2019\n",
        "plt.style.use('bmh')\n",
        "\n",
        "fig, ax = plt.subplots()\n",
        "\n",
        "ax.hist(df['session_projects_added'], \n",
        "        weights = np.ones(len(df)) / len(df))\n",
        "\n",
        "ax.set_xlabel('# of projects added')\n",
        "ax.set_ylabel('# of observations')\n",
        "plt.gca().yaxis.set_major_formatter(PercentFormatter(1))\n",
        "plt.title('distribution of count of projects added')\n",
        "\n",
        "plt.show()"
      ],
      "execution_count": null,
      "outputs": [
        {
          "output_type": "display_data",
          "data": {
            "image/png": "[encoded data removed]",
            "text/plain": [
              "<Figure size 432x288 with 1 Axes>"
            ]
          },
          "metadata": {
            "tags": [],
            "needs_background": "light"
          }
        }
      ]
    },
    {
      "cell_type": "markdown",
      "metadata": {
        "id": "9Abjol4GCfq4"
      },
      "source": [
        "Most sessions(75.6%) were created with projects added when people logged into the account to showcase what they have done. Among those, about 75% of people choose to add within 3 projects. Mean of number of projects added is 1.618729. "
      ]
    },
    {
      "cell_type": "markdown",
      "metadata": {
        "id": "sNi9NUrMHL3-"
      },
      "source": [
        "> ### **Likes**"
      ]
    },
    {
      "cell_type": "code",
      "metadata": {
        "id": "_4jFMlPkG3cE",
        "outputId": "40eacba3-83ed-4722-bf59-f708959d6de8",
        "colab": {
          "base_uri": "https://localhost:8080/",
          "height": 296
        }
      },
      "source": [
        "# sessions with likes given or not in October 2019\n",
        "plt.style.use('bmh')\n",
        "\n",
        "import matplotlib.pyplot as plt\n",
        "fig, ax = plt.subplots()\n",
        "\n",
        "g = sns.countplot(y = 'likes_given', \n",
        "                  data = df)\n",
        "\n",
        "total = len(df['likes_given'])\n",
        "for p in ax.patches:\n",
        "        percentage = '{:.2f}%'.format(100 * p.get_width()/total)\n",
        "        x = p.get_x() + p.get_width() + 0.02\n",
        "        y = p.get_y() + p.get_height()/2\n",
        "        ax.annotate(percentage, (x, y))\n",
        "\n",
        "g.set_title('Sessions with likes given or not')\n",
        "plt.show()"
      ],
      "execution_count": null,
      "outputs": [
        {
          "output_type": "display_data",
          "data": {
            "image/png": "[encoded data removed]",
            "text/plain": [
              "<Figure size 432x288 with 1 Axes>"
            ]
          },
          "metadata": {
            "tags": []
          }
        }
      ]
    },
    {
      "cell_type": "code",
      "metadata": {
        "id": "z2bccJTaACqN",
        "outputId": "ff0ebbfd-30f6-4eda-8ff7-81585a03f489",
        "colab": {
          "base_uri": "https://localhost:8080/",
          "height": 296
        }
      },
      "source": [
        "# distribution of count of likes added in October 2019\n",
        "plt.style.use('bmh')\n",
        "\n",
        "fig, ax = plt.subplots()\n",
        "\n",
        "ax.hist(df['session_likes_given'], \n",
        "        bins = 28,\n",
        "        weights = np.ones(len(df)) / len(df))\n",
        "\n",
        "ax.set_xlabel('# of likes given')\n",
        "ax.set_ylabel('# of observations')\n",
        "plt.gca().yaxis.set_major_formatter(PercentFormatter(1))\n",
        "plt.title('distribution of count of likes given')\n",
        "\n",
        "plt.show()"
      ],
      "execution_count": null,
      "outputs": [
        {
          "output_type": "display_data",
          "data": {
            "image/png": "[encoded data removed]",
            "text/plain": [
              "<Figure size 432x288 with 1 Axes>"
            ]
          },
          "metadata": {
            "tags": [],
            "needs_background": "light"
          }
        }
      ]
    },
    {
      "cell_type": "markdown",
      "metadata": {
        "id": "Td7kyC1bIFH-"
      },
      "source": [
        "About 70% of people would like to interact with people on the platform to show their support for people by giving likes. Numbers of likes given by people vary from 1 to 27 and mean number is 10.458194. "
      ]
    },
    {
      "cell_type": "markdown",
      "metadata": {
        "id": "He_SiLlEJJCD"
      },
      "source": [
        "> ### **Comment**"
      ]
    },
    {
      "cell_type": "code",
      "metadata": {
        "id": "_7rV4QjDJH-Q",
        "outputId": "7679eb05-fd39-46c3-b41e-0b43a7c1f7e5",
        "colab": {
          "base_uri": "https://localhost:8080/",
          "height": 296
        }
      },
      "source": [
        "# sessions with comment given or not in October 2019\n",
        "plt.style.use('bmh')\n",
        "\n",
        "import matplotlib.pyplot as plt\n",
        "fig, ax = plt.subplots()\n",
        "\n",
        "g = sns.countplot(y = 'comment_given', \n",
        "                  data = df)\n",
        "\n",
        "total = len(df['comment_given'])\n",
        "for p in ax.patches:\n",
        "        percentage = '{:.2f}%'.format(100 * p.get_width()/total)\n",
        "        x = p.get_x() + p.get_width() + 0.02\n",
        "        y = p.get_y() + p.get_height()/2\n",
        "        ax.annotate(percentage, (x, y))\n",
        "\n",
        "g.set_title('Sessions with comment given or not')\n",
        "plt.show()"
      ],
      "execution_count": null,
      "outputs": [
        {
          "output_type": "display_data",
          "data": {
            "image/png": "[encoded data removed]",
            "text/plain": [
              "<Figure size 432x288 with 1 Axes>"
            ]
          },
          "metadata": {
            "tags": [],
            "needs_background": "light"
          }
        }
      ]
    },
    {
      "cell_type": "code",
      "metadata": {
        "id": "6gshZ0SEJIEd",
        "outputId": "a707a608-688f-4ee0-9d0e-261afaab8066",
        "colab": {
          "base_uri": "https://localhost:8080/",
          "height": 296
        }
      },
      "source": [
        "# distribution of count of comments given in October 2019\n",
        "plt.style.use('bmh')\n",
        "\n",
        "fig, ax = plt.subplots()\n",
        "\n",
        "ax.hist(df['session_comments_given'], \n",
        "        bins = 21,\n",
        "        weights = np.ones(len(df)) / len(df))\n",
        "\n",
        "ax.set_xlabel('# of comments given')\n",
        "ax.set_ylabel('# of observations')\n",
        "plt.gca().yaxis.set_major_formatter(PercentFormatter(1))\n",
        "plt.title('distribution of count of comments added')\n",
        "\n",
        "plt.show()"
      ],
      "execution_count": null,
      "outputs": [
        {
          "output_type": "display_data",
          "data": {
            "image/png": "[encoded data removed]",
            "text/plain": [
              "<Figure size 432x288 with 1 Axes>"
            ]
          },
          "metadata": {
            "tags": [],
            "needs_background": "light"
          }
        }
      ]
    },
    {
      "cell_type": "markdown",
      "metadata": {
        "id": "uorVIqcCKGnl"
      },
      "source": [
        "About 75% sessions have comments created. People spend more time showing interests to other people's work by commenting, which is slightly higher than that of likes given. Most people would like to give within 5 comments each time when they log into the account, mean number is 2.408027 much smaller than likes given considering the effors for giving comments are more than that of giving likes."
      ]
    },
    {
      "cell_type": "markdown",
      "metadata": {
        "id": "TrQneT98Wlrf"
      },
      "source": [
        "> ### **Inactive Status**"
      ]
    },
    {
      "cell_type": "code",
      "metadata": {
        "id": "KDtDvio8WqnB",
        "outputId": "445495a6-a90c-45a4-b1f5-730544c119fa",
        "colab": {
          "base_uri": "https://localhost:8080/",
          "height": 296
        }
      },
      "source": [
        "# sessions with inactive status or not in October 2019\n",
        "plt.style.use('bmh')\n",
        "\n",
        "import matplotlib.pyplot as plt\n",
        "fig, ax = plt.subplots()\n",
        "\n",
        "g = sns.countplot(y = 'inactive_status', \n",
        "                  data = df)\n",
        "\n",
        "total = len(df['inactive_status'])\n",
        "for p in ax.patches:\n",
        "        percentage = '{:.2f}%'.format(100 * p.get_width()/total)\n",
        "        x = p.get_x() + p.get_width() + 0.02\n",
        "        y = p.get_y() + p.get_height()/2\n",
        "        ax.annotate(percentage, (x, y))\n",
        "\n",
        "g.set_title('Sessions with inactive status or not')\n",
        "plt.show()"
      ],
      "execution_count": null,
      "outputs": [
        {
          "output_type": "display_data",
          "data": {
            "image/png": "[encoded data removed]",
            "text/plain": [
              "<Figure size 432x288 with 1 Axes>"
            ]
          },
          "metadata": {
            "tags": [],
            "needs_background": "light"
          }
        }
      ]
    },
    {
      "cell_type": "markdown",
      "metadata": {
        "id": "ImFtOv3eXANA"
      },
      "source": [
        "Nearly 50% of people do not have inactive status during the session, which means they were fully focused on the projects or interacting with other people's work."
      ]
    },
    {
      "cell_type": "markdown",
      "metadata": {
        "id": "S0q7GboWXfEh"
      },
      "source": [
        "> ### **Session Duration**"
      ]
    },
    {
      "cell_type": "code",
      "metadata": {
        "id": "qBjwwaxQXoZP",
        "outputId": "963de4d7-86d1-4308-b1d6-6f516a28a82b",
        "colab": {
          "base_uri": "https://localhost:8080/",
          "height": 296
        }
      },
      "source": [
        "# distribution of session duration in seconds in October 2019\n",
        "plt.style.use('bmh')\n",
        "fig, ax = plt.subplots()\n",
        "\n",
        "ax.hist(df['session_duration'],\n",
        "        bins = [10, 60, 300, 600, 900, 1200, 1500, 1800, 2100, 2400],\n",
        "        weights = np.ones(len(df)) / len(df))\n",
        "\n",
        "ax.set_xlabel('session duration')\n",
        "ax.set_ylabel('# of observations')\n",
        "plt.gca().yaxis.set_major_formatter(PercentFormatter(1))\n",
        "plt.title('distribution of session duration')\n",
        "\n",
        "plt.show()"
      ],
      "execution_count": null,
      "outputs": [
        {
          "output_type": "display_data",
          "data": {
            "image/png": "[encoded data removed]",
            "text/plain": [
              "<Figure size 432x288 with 1 Axes>"
            ]
          },
          "metadata": {
            "tags": [],
            "needs_background": "light"
          }
        }
      ]
    },
    {
      "cell_type": "markdown",
      "metadata": {
        "id": "TeVnLGqseW_f"
      },
      "source": [
        "About 3% of sessions were less than 1 minute, which I believe is not engaged. About 10% sessions were within 5 minutes, which is long enough for people to give likes or quick comments. More than 75% sessions have duration more than 10 minutes on the account. "
      ]
    },
    {
      "cell_type": "markdown",
      "metadata": {
        "id": "wQGmhB-yfbnU"
      },
      "source": [
        "> ### **Inactive Duration**"
      ]
    },
    {
      "cell_type": "code",
      "metadata": {
        "id": "TJhnSfH7fkuH",
        "outputId": "966ed7a4-0445-455b-c1a5-a467cdcc45e5",
        "colab": {
          "base_uri": "https://localhost:8080/",
          "height": 296
        }
      },
      "source": [
        "# distribution of inactive duration in seconds in October 2019\n",
        "plt.style.use('bmh')\n",
        "fig, ax = plt.subplots()\n",
        "\n",
        "ax.hist(df['inactive_duration'],\n",
        "        bins = [0, 60, 300, 600, 900, 1200, 1500, 1800, 2100, 2500],\n",
        "        weights = np.ones(len(df)) / len(df))\n",
        "\n",
        "ax.set_xlabel('inactive duration')\n",
        "ax.set_ylabel('# of observations')\n",
        "plt.gca().yaxis.set_major_formatter(PercentFormatter(1))\n",
        "plt.title('distribution of inactive duration')\n",
        "\n",
        "plt.show()"
      ],
      "execution_count": null,
      "outputs": [
        {
          "output_type": "display_data",
          "data": {
            "image/png": "[encoded data removed]",
            "text/plain": [
              "<Figure size 432x288 with 1 Axes>"
            ]
          },
          "metadata": {
            "tags": [],
            "needs_background": "light"
          }
        }
      ]
    },
    {
      "cell_type": "markdown",
      "metadata": {
        "id": "z6X9FgLngd8N"
      },
      "source": [
        "More than 40% sessions have less than 1 minute inactive duration which means users were fully focused on the platform adding projects or browsing other people's work."
      ]
    },
    {
      "cell_type": "markdown",
      "metadata": {
        "id": "3o9co-J4hG6J"
      },
      "source": [
        "## **User Engagement**"
      ]
    },
    {
      "cell_type": "markdown",
      "metadata": {
        "id": "LKjqbkBGkA_M"
      },
      "source": [
        "My definition for engagement is if a user have one or more of the following actions, then the user is engaged.\n",
        "* adding projects\n",
        "* giving likes\n",
        "* giving comments \n",
        "* session more than 10 minutes"
      ]
    },
    {
      "cell_type": "code",
      "metadata": {
        "id": "sbfcgdA6dcn0",
        "outputId": "a6e28089-5694-4248-8bb8-a26991a3e38b",
        "colab": {
          "base_uri": "https://localhost:8080/",
          "height": 224
        }
      },
      "source": [
        "# extract user engagement data \n",
        "df_engaged = df.loc[(df['projects_added'] > 0) | \n",
        "                    (df['likes_given'] > 0) | \n",
        "                    (df['comment_given'] > 0) |\n",
        "                    (df['session_duration'] >= 300)]\n",
        "df_engaged.head()"
      ],
      "execution_count": 14,
      "outputs": [
        {
          "output_type": "execute_result",
          "data": {
            "text/html": [
              "<div>\n",
              "<style scoped>\n",
              "    .dataframe tbody tr th:only-of-type {\n",
              "        vertical-align: middle;\n",
              "    }\n",
              "\n",
              "    .dataframe tbody tr th {\n",
              "        vertical-align: top;\n",
              "    }\n",
              "\n",
              "    .dataframe thead th {\n",
              "        text-align: right;\n",
              "    }\n",
              "</style>\n",
              "<table border=\"1\" class=\"dataframe\">\n",
              "  <thead>\n",
              "    <tr style=\"text-align: right;\">\n",
              "      <th></th>\n",
              "      <th>session_id</th>\n",
              "      <th>customer_id</th>\n",
              "      <th>login_date</th>\n",
              "      <th>projects_added</th>\n",
              "      <th>likes_given</th>\n",
              "      <th>comment_given</th>\n",
              "      <th>inactive_status</th>\n",
              "      <th>bug_occured</th>\n",
              "      <th>session_projects_added</th>\n",
              "      <th>session_likes_given</th>\n",
              "      <th>session_comments_given</th>\n",
              "      <th>inactive_duration</th>\n",
              "      <th>bugs_in_session</th>\n",
              "      <th>session_duration</th>\n",
              "    </tr>\n",
              "  </thead>\n",
              "  <tbody>\n",
              "    <tr>\n",
              "      <th>0</th>\n",
              "      <td>624205</td>\n",
              "      <td>80746</td>\n",
              "      <td>10/30/19</td>\n",
              "      <td>False</td>\n",
              "      <td>True</td>\n",
              "      <td>True</td>\n",
              "      <td>True</td>\n",
              "      <td>False</td>\n",
              "      <td>0</td>\n",
              "      <td>24.0</td>\n",
              "      <td>3</td>\n",
              "      <td>1146</td>\n",
              "      <td>0</td>\n",
              "      <td>1564</td>\n",
              "    </tr>\n",
              "    <tr>\n",
              "      <th>1</th>\n",
              "      <td>624241</td>\n",
              "      <td>24520</td>\n",
              "      <td>10/30/19</td>\n",
              "      <td>True</td>\n",
              "      <td>True</td>\n",
              "      <td>True</td>\n",
              "      <td>True</td>\n",
              "      <td>False</td>\n",
              "      <td>2</td>\n",
              "      <td>3.0</td>\n",
              "      <td>5</td>\n",
              "      <td>133</td>\n",
              "      <td>0</td>\n",
              "      <td>1766</td>\n",
              "    </tr>\n",
              "    <tr>\n",
              "      <th>2</th>\n",
              "      <td>111002</td>\n",
              "      <td>32047</td>\n",
              "      <td>10/30/19</td>\n",
              "      <td>True</td>\n",
              "      <td>True</td>\n",
              "      <td>True</td>\n",
              "      <td>True</td>\n",
              "      <td>False</td>\n",
              "      <td>1</td>\n",
              "      <td>5.0</td>\n",
              "      <td>5</td>\n",
              "      <td>1571</td>\n",
              "      <td>0</td>\n",
              "      <td>2230</td>\n",
              "    </tr>\n",
              "    <tr>\n",
              "      <th>3</th>\n",
              "      <td>545113</td>\n",
              "      <td>23404</td>\n",
              "      <td>10/30/19</td>\n",
              "      <td>True</td>\n",
              "      <td>True</td>\n",
              "      <td>True</td>\n",
              "      <td>False</td>\n",
              "      <td>False</td>\n",
              "      <td>1</td>\n",
              "      <td>10.0</td>\n",
              "      <td>21</td>\n",
              "      <td>0</td>\n",
              "      <td>0</td>\n",
              "      <td>633</td>\n",
              "    </tr>\n",
              "    <tr>\n",
              "      <th>4</th>\n",
              "      <td>750269</td>\n",
              "      <td>40235</td>\n",
              "      <td>10/30/19</td>\n",
              "      <td>True</td>\n",
              "      <td>True</td>\n",
              "      <td>False</td>\n",
              "      <td>True</td>\n",
              "      <td>False</td>\n",
              "      <td>3</td>\n",
              "      <td>16.0</td>\n",
              "      <td>0</td>\n",
              "      <td>1405</td>\n",
              "      <td>0</td>\n",
              "      <td>1679</td>\n",
              "    </tr>\n",
              "  </tbody>\n",
              "</table>\n",
              "</div>"
            ],
            "text/plain": [
              "   session_id  customer_id  ... bugs_in_session  session_duration\n",
              "0      624205        80746  ...               0              1564\n",
              "1      624241        24520  ...               0              1766\n",
              "2      111002        32047  ...               0              2230\n",
              "3      545113        23404  ...               0               633\n",
              "4      750269        40235  ...               0              1679\n",
              "\n",
              "[5 rows x 14 columns]"
            ]
          },
          "metadata": {
            "tags": []
          },
          "execution_count": 14
        }
      ]
    },
    {
      "cell_type": "code",
      "metadata": {
        "id": "MRFXJjy_5T4y",
        "outputId": "90f206a6-0da1-4283-d127-f14379b66c7d",
        "colab": {
          "base_uri": "https://localhost:8080/",
          "height": 272
        }
      },
      "source": [
        "df.iloc[13]"
      ],
      "execution_count": null,
      "outputs": [
        {
          "output_type": "execute_result",
          "data": {
            "text/plain": [
              "session_id                  361637\n",
              "customer_id                  51243\n",
              "login_date                10/29/19\n",
              "projects_added                True\n",
              "likes_given                   True\n",
              "comment_given                False\n",
              "inactive_status              False\n",
              "bug_occured                  False\n",
              "session_projects_added           3\n",
              "session_likes_given             24\n",
              "session_comments_given           0\n",
              "inactive_duration                0\n",
              "bugs_in_session                  0\n",
              "session_duration                39\n",
              "Name: 13, dtype: object"
            ]
          },
          "metadata": {
            "tags": []
          },
          "execution_count": 238
        }
      ]
    },
    {
      "cell_type": "code",
      "metadata": {
        "id": "5mwISUHVirEl",
        "outputId": "eea4d887-e050-46a1-ff1b-ed0b10122d5b",
        "colab": {
          "base_uri": "https://localhost:8080/",
          "height": 34
        }
      },
      "source": [
        "len(df_engaged)"
      ],
      "execution_count": null,
      "outputs": [
        {
          "output_type": "execute_result",
          "data": {
            "text/plain": [
              "295"
            ]
          },
          "metadata": {
            "tags": []
          },
          "execution_count": 227
        }
      ]
    },
    {
      "cell_type": "markdown",
      "metadata": {
        "id": "wtSlp16tmojS"
      },
      "source": [
        "It turns out, all data are engaged, which is awesome for what the platform has done so far. Congratulations! "
      ]
    },
    {
      "cell_type": "markdown",
      "metadata": {
        "id": "v7YGIoPtN2St"
      },
      "source": [
        "> ### **Bugs**"
      ]
    },
    {
      "cell_type": "code",
      "metadata": {
        "id": "ZxG9XaP6RRF4",
        "outputId": "910bc3b1-1dd3-411e-b68d-c6d3935fbe1d",
        "colab": {
          "base_uri": "https://localhost:8080/",
          "height": 224
        }
      },
      "source": [
        "# data with projects added\n",
        "df_projects_added = df.loc[lambda df: df['session_projects_added'] > 0, :]\n",
        "df_projects_added.head()"
      ],
      "execution_count": null,
      "outputs": [
        {
          "output_type": "execute_result",
          "data": {
            "text/html": [
              "<div>\n",
              "<style scoped>\n",
              "    .dataframe tbody tr th:only-of-type {\n",
              "        vertical-align: middle;\n",
              "    }\n",
              "\n",
              "    .dataframe tbody tr th {\n",
              "        vertical-align: top;\n",
              "    }\n",
              "\n",
              "    .dataframe thead th {\n",
              "        text-align: right;\n",
              "    }\n",
              "</style>\n",
              "<table border=\"1\" class=\"dataframe\">\n",
              "  <thead>\n",
              "    <tr style=\"text-align: right;\">\n",
              "      <th></th>\n",
              "      <th>session_id</th>\n",
              "      <th>customer_id</th>\n",
              "      <th>login_date</th>\n",
              "      <th>projects_added</th>\n",
              "      <th>likes_given</th>\n",
              "      <th>comment_given</th>\n",
              "      <th>inactive_status</th>\n",
              "      <th>bug_occured</th>\n",
              "      <th>session_projects_added</th>\n",
              "      <th>session_likes_given</th>\n",
              "      <th>session_comments_given</th>\n",
              "      <th>inactive_duration</th>\n",
              "      <th>bugs_in_session</th>\n",
              "      <th>session_duration</th>\n",
              "    </tr>\n",
              "  </thead>\n",
              "  <tbody>\n",
              "    <tr>\n",
              "      <th>1</th>\n",
              "      <td>624241</td>\n",
              "      <td>24520</td>\n",
              "      <td>10/30/19</td>\n",
              "      <td>True</td>\n",
              "      <td>True</td>\n",
              "      <td>True</td>\n",
              "      <td>True</td>\n",
              "      <td>False</td>\n",
              "      <td>2</td>\n",
              "      <td>3.0</td>\n",
              "      <td>5</td>\n",
              "      <td>133</td>\n",
              "      <td>0</td>\n",
              "      <td>1766</td>\n",
              "    </tr>\n",
              "    <tr>\n",
              "      <th>2</th>\n",
              "      <td>111002</td>\n",
              "      <td>32047</td>\n",
              "      <td>10/30/19</td>\n",
              "      <td>True</td>\n",
              "      <td>True</td>\n",
              "      <td>True</td>\n",
              "      <td>True</td>\n",
              "      <td>False</td>\n",
              "      <td>1</td>\n",
              "      <td>5.0</td>\n",
              "      <td>5</td>\n",
              "      <td>1571</td>\n",
              "      <td>0</td>\n",
              "      <td>2230</td>\n",
              "    </tr>\n",
              "    <tr>\n",
              "      <th>3</th>\n",
              "      <td>545113</td>\n",
              "      <td>23404</td>\n",
              "      <td>10/30/19</td>\n",
              "      <td>True</td>\n",
              "      <td>True</td>\n",
              "      <td>True</td>\n",
              "      <td>False</td>\n",
              "      <td>False</td>\n",
              "      <td>1</td>\n",
              "      <td>10.0</td>\n",
              "      <td>21</td>\n",
              "      <td>0</td>\n",
              "      <td>0</td>\n",
              "      <td>633</td>\n",
              "    </tr>\n",
              "    <tr>\n",
              "      <th>4</th>\n",
              "      <td>750269</td>\n",
              "      <td>40235</td>\n",
              "      <td>10/30/19</td>\n",
              "      <td>True</td>\n",
              "      <td>True</td>\n",
              "      <td>False</td>\n",
              "      <td>True</td>\n",
              "      <td>False</td>\n",
              "      <td>3</td>\n",
              "      <td>16.0</td>\n",
              "      <td>0</td>\n",
              "      <td>1405</td>\n",
              "      <td>0</td>\n",
              "      <td>1679</td>\n",
              "    </tr>\n",
              "    <tr>\n",
              "      <th>5</th>\n",
              "      <td>744943</td>\n",
              "      <td>73245</td>\n",
              "      <td>10/30/19</td>\n",
              "      <td>True</td>\n",
              "      <td>True</td>\n",
              "      <td>True</td>\n",
              "      <td>True</td>\n",
              "      <td>True</td>\n",
              "      <td>3</td>\n",
              "      <td>27.0</td>\n",
              "      <td>5</td>\n",
              "      <td>1746</td>\n",
              "      <td>4</td>\n",
              "      <td>1490</td>\n",
              "    </tr>\n",
              "  </tbody>\n",
              "</table>\n",
              "</div>"
            ],
            "text/plain": [
              "   session_id  customer_id  ... bugs_in_session  session_duration\n",
              "1      624241        24520  ...               0              1766\n",
              "2      111002        32047  ...               0              2230\n",
              "3      545113        23404  ...               0               633\n",
              "4      750269        40235  ...               0              1679\n",
              "5      744943        73245  ...               4              1490\n",
              "\n",
              "[5 rows x 14 columns]"
            ]
          },
          "metadata": {
            "tags": []
          },
          "execution_count": 228
        }
      ]
    },
    {
      "cell_type": "code",
      "metadata": {
        "id": "zxtp6MKJN_tp",
        "outputId": "b0f03962-30a7-489e-a60c-e7592befa677",
        "colab": {
          "base_uri": "https://localhost:8080/",
          "height": 296
        }
      },
      "source": [
        "# sessions with bugs occurred or not when adding projects in October 2019\n",
        "plt.style.use('bmh')\n",
        "\n",
        "import matplotlib.pyplot as plt\n",
        "fig, ax = plt.subplots()\n",
        "\n",
        "g = sns.countplot(y = 'bug_occured', \n",
        "                  data = df_projects_added)\n",
        "\n",
        "total = len(df_projects_added)\n",
        "for p in ax.patches:\n",
        "        percentage = '{:.2f}%'.format(100 * p.get_width()/total)\n",
        "        x = p.get_x() + p.get_width() + 0.02\n",
        "        y = p.get_y() + p.get_height()/2\n",
        "        ax.annotate(percentage, (x, y))\n",
        "\n",
        "g.set_title('Sessions with bugs occurred or not when adding projects')\n",
        "plt.show()"
      ],
      "execution_count": null,
      "outputs": [
        {
          "output_type": "display_data",
          "data": {
            "image/png": "[encoded data removed]",
            "text/plain": [
              "<Figure size 432x288 with 1 Axes>"
            ]
          },
          "metadata": {
            "tags": [],
            "needs_background": "light"
          }
        }
      ]
    },
    {
      "cell_type": "code",
      "metadata": {
        "id": "lslBdA6ITapH",
        "outputId": "31c962ec-3b87-4b2e-bf16-37734b2739c4",
        "colab": {
          "base_uri": "https://localhost:8080/",
          "height": 296
        }
      },
      "source": [
        "# distribution of count of bugs occurred in October 2019\n",
        "plt.style.use('bmh')\n",
        "\n",
        "fig, ax = plt.subplots()\n",
        "\n",
        "ax.hist(df_projects_added['bugs_in_session'], \n",
        "        weights = np.ones(len(df_projects_added)) / len(df_projects_added))\n",
        "\n",
        "ax.set_xlabel('# of bugs occurred')\n",
        "ax.set_ylabel('# of observations')\n",
        "plt.gca().yaxis.set_major_formatter(PercentFormatter(1))\n",
        "plt.title('distribution of count of bugs occurred when adding projects')\n",
        "\n",
        "plt.show()"
      ],
      "execution_count": null,
      "outputs": [
        {
          "output_type": "display_data",
          "data": {
            "image/png": "[encoded data removed]",
            "text/plain": [
              "<Figure size 432x288 with 1 Axes>"
            ]
          },
          "metadata": {
            "tags": [],
            "needs_background": "light"
          }
        }
      ]
    },
    {
      "cell_type": "markdown",
      "metadata": {
        "id": "puf-7-3RPo-T"
      },
      "source": [
        "When people add projects to their account, about 60% of chance that they could add without any bugs occurred. The maximum number of bug people ran into is 5. "
      ]
    },
    {
      "cell_type": "markdown",
      "metadata": {
        "id": "tbEmHkoOrE5E"
      },
      "source": [
        "## **Correlation**"
      ]
    },
    {
      "cell_type": "code",
      "metadata": {
        "id": "XUQGb-_fP9o6",
        "outputId": "4e540366-7670-46a8-9356-fa5ea7770d4a",
        "colab": {
          "base_uri": "https://localhost:8080/",
          "height": 472
        }
      },
      "source": [
        "df.corr()"
      ],
      "execution_count": null,
      "outputs": [
        {
          "output_type": "execute_result",
          "data": {
            "text/html": [
              "<div>\n",
              "<style scoped>\n",
              "    .dataframe tbody tr th:only-of-type {\n",
              "        vertical-align: middle;\n",
              "    }\n",
              "\n",
              "    .dataframe tbody tr th {\n",
              "        vertical-align: top;\n",
              "    }\n",
              "\n",
              "    .dataframe thead th {\n",
              "        text-align: right;\n",
              "    }\n",
              "</style>\n",
              "<table border=\"1\" class=\"dataframe\">\n",
              "  <thead>\n",
              "    <tr style=\"text-align: right;\">\n",
              "      <th></th>\n",
              "      <th>session_id</th>\n",
              "      <th>customer_id</th>\n",
              "      <th>projects_added</th>\n",
              "      <th>likes_given</th>\n",
              "      <th>comment_given</th>\n",
              "      <th>inactive_status</th>\n",
              "      <th>bug_occured</th>\n",
              "      <th>session_projects_added</th>\n",
              "      <th>session_likes_given</th>\n",
              "      <th>session_comments_given</th>\n",
              "      <th>inactive_duration</th>\n",
              "      <th>bugs_in_session</th>\n",
              "      <th>session_duration</th>\n",
              "    </tr>\n",
              "  </thead>\n",
              "  <tbody>\n",
              "    <tr>\n",
              "      <th>session_id</th>\n",
              "      <td>1.000000</td>\n",
              "      <td>-0.041766</td>\n",
              "      <td>0.105472</td>\n",
              "      <td>-0.118823</td>\n",
              "      <td>0.008198</td>\n",
              "      <td>0.064912</td>\n",
              "      <td>-0.129564</td>\n",
              "      <td>0.107919</td>\n",
              "      <td>-0.111805</td>\n",
              "      <td>0.087228</td>\n",
              "      <td>0.051335</td>\n",
              "      <td>-0.160055</td>\n",
              "      <td>-0.007147</td>\n",
              "    </tr>\n",
              "    <tr>\n",
              "      <th>customer_id</th>\n",
              "      <td>-0.041766</td>\n",
              "      <td>1.000000</td>\n",
              "      <td>0.085221</td>\n",
              "      <td>-0.022051</td>\n",
              "      <td>0.021665</td>\n",
              "      <td>-0.018100</td>\n",
              "      <td>0.054304</td>\n",
              "      <td>0.157838</td>\n",
              "      <td>-0.030708</td>\n",
              "      <td>-0.035146</td>\n",
              "      <td>-0.014802</td>\n",
              "      <td>0.049826</td>\n",
              "      <td>-0.056896</td>\n",
              "    </tr>\n",
              "    <tr>\n",
              "      <th>projects_added</th>\n",
              "      <td>0.105472</td>\n",
              "      <td>0.085221</td>\n",
              "      <td>1.000000</td>\n",
              "      <td>0.000058</td>\n",
              "      <td>-0.041506</td>\n",
              "      <td>-0.003947</td>\n",
              "      <td>0.005130</td>\n",
              "      <td>0.689355</td>\n",
              "      <td>-0.003747</td>\n",
              "      <td>-0.052704</td>\n",
              "      <td>-0.039180</td>\n",
              "      <td>-0.007384</td>\n",
              "      <td>0.042318</td>\n",
              "    </tr>\n",
              "    <tr>\n",
              "      <th>likes_given</th>\n",
              "      <td>-0.118823</td>\n",
              "      <td>-0.022051</td>\n",
              "      <td>0.000058</td>\n",
              "      <td>1.000000</td>\n",
              "      <td>0.075473</td>\n",
              "      <td>-0.071915</td>\n",
              "      <td>0.035853</td>\n",
              "      <td>-0.054197</td>\n",
              "      <td>0.702541</td>\n",
              "      <td>0.095637</td>\n",
              "      <td>-0.033793</td>\n",
              "      <td>0.005980</td>\n",
              "      <td>-0.035065</td>\n",
              "    </tr>\n",
              "    <tr>\n",
              "      <th>comment_given</th>\n",
              "      <td>0.008198</td>\n",
              "      <td>0.021665</td>\n",
              "      <td>-0.041506</td>\n",
              "      <td>0.075473</td>\n",
              "      <td>1.000000</td>\n",
              "      <td>-0.048446</td>\n",
              "      <td>0.017369</td>\n",
              "      <td>-0.049690</td>\n",
              "      <td>0.085124</td>\n",
              "      <td>0.619988</td>\n",
              "      <td>-0.040904</td>\n",
              "      <td>0.029915</td>\n",
              "      <td>0.021232</td>\n",
              "    </tr>\n",
              "    <tr>\n",
              "      <th>inactive_status</th>\n",
              "      <td>0.064912</td>\n",
              "      <td>-0.018100</td>\n",
              "      <td>-0.003947</td>\n",
              "      <td>-0.071915</td>\n",
              "      <td>-0.048446</td>\n",
              "      <td>1.000000</td>\n",
              "      <td>0.120109</td>\n",
              "      <td>0.031388</td>\n",
              "      <td>-0.084572</td>\n",
              "      <td>0.006699</td>\n",
              "      <td>0.755511</td>\n",
              "      <td>0.128532</td>\n",
              "      <td>0.072894</td>\n",
              "    </tr>\n",
              "    <tr>\n",
              "      <th>bug_occured</th>\n",
              "      <td>-0.129564</td>\n",
              "      <td>0.054304</td>\n",
              "      <td>0.005130</td>\n",
              "      <td>0.035853</td>\n",
              "      <td>0.017369</td>\n",
              "      <td>0.120109</td>\n",
              "      <td>1.000000</td>\n",
              "      <td>0.021741</td>\n",
              "      <td>0.060116</td>\n",
              "      <td>-0.031551</td>\n",
              "      <td>0.120919</td>\n",
              "      <td>0.885043</td>\n",
              "      <td>-0.029758</td>\n",
              "    </tr>\n",
              "    <tr>\n",
              "      <th>session_projects_added</th>\n",
              "      <td>0.107919</td>\n",
              "      <td>0.157838</td>\n",
              "      <td>0.689355</td>\n",
              "      <td>-0.054197</td>\n",
              "      <td>-0.049690</td>\n",
              "      <td>0.031388</td>\n",
              "      <td>0.021741</td>\n",
              "      <td>1.000000</td>\n",
              "      <td>-0.014775</td>\n",
              "      <td>-0.065215</td>\n",
              "      <td>0.001022</td>\n",
              "      <td>-0.038429</td>\n",
              "      <td>0.018398</td>\n",
              "    </tr>\n",
              "    <tr>\n",
              "      <th>session_likes_given</th>\n",
              "      <td>-0.111805</td>\n",
              "      <td>-0.030708</td>\n",
              "      <td>-0.003747</td>\n",
              "      <td>0.702541</td>\n",
              "      <td>0.085124</td>\n",
              "      <td>-0.084572</td>\n",
              "      <td>0.060116</td>\n",
              "      <td>-0.014775</td>\n",
              "      <td>1.000000</td>\n",
              "      <td>0.048944</td>\n",
              "      <td>-0.076404</td>\n",
              "      <td>0.032711</td>\n",
              "      <td>-0.057032</td>\n",
              "    </tr>\n",
              "    <tr>\n",
              "      <th>session_comments_given</th>\n",
              "      <td>0.087228</td>\n",
              "      <td>-0.035146</td>\n",
              "      <td>-0.052704</td>\n",
              "      <td>0.095637</td>\n",
              "      <td>0.619988</td>\n",
              "      <td>0.006699</td>\n",
              "      <td>-0.031551</td>\n",
              "      <td>-0.065215</td>\n",
              "      <td>0.048944</td>\n",
              "      <td>1.000000</td>\n",
              "      <td>0.011550</td>\n",
              "      <td>-0.020312</td>\n",
              "      <td>0.010574</td>\n",
              "    </tr>\n",
              "    <tr>\n",
              "      <th>inactive_duration</th>\n",
              "      <td>0.051335</td>\n",
              "      <td>-0.014802</td>\n",
              "      <td>-0.039180</td>\n",
              "      <td>-0.033793</td>\n",
              "      <td>-0.040904</td>\n",
              "      <td>0.755511</td>\n",
              "      <td>0.120919</td>\n",
              "      <td>0.001022</td>\n",
              "      <td>-0.076404</td>\n",
              "      <td>0.011550</td>\n",
              "      <td>1.000000</td>\n",
              "      <td>0.137024</td>\n",
              "      <td>0.073598</td>\n",
              "    </tr>\n",
              "    <tr>\n",
              "      <th>bugs_in_session</th>\n",
              "      <td>-0.160055</td>\n",
              "      <td>0.049826</td>\n",
              "      <td>-0.007384</td>\n",
              "      <td>0.005980</td>\n",
              "      <td>0.029915</td>\n",
              "      <td>0.128532</td>\n",
              "      <td>0.885043</td>\n",
              "      <td>-0.038429</td>\n",
              "      <td>0.032711</td>\n",
              "      <td>-0.020312</td>\n",
              "      <td>0.137024</td>\n",
              "      <td>1.000000</td>\n",
              "      <td>-0.032970</td>\n",
              "    </tr>\n",
              "    <tr>\n",
              "      <th>session_duration</th>\n",
              "      <td>-0.007147</td>\n",
              "      <td>-0.056896</td>\n",
              "      <td>0.042318</td>\n",
              "      <td>-0.035065</td>\n",
              "      <td>0.021232</td>\n",
              "      <td>0.072894</td>\n",
              "      <td>-0.029758</td>\n",
              "      <td>0.018398</td>\n",
              "      <td>-0.057032</td>\n",
              "      <td>0.010574</td>\n",
              "      <td>0.073598</td>\n",
              "      <td>-0.032970</td>\n",
              "      <td>1.000000</td>\n",
              "    </tr>\n",
              "  </tbody>\n",
              "</table>\n",
              "</div>"
            ],
            "text/plain": [
              "                        session_id  ...  session_duration\n",
              "session_id                1.000000  ...         -0.007147\n",
              "customer_id              -0.041766  ...         -0.056896\n",
              "projects_added            0.105472  ...          0.042318\n",
              "likes_given              -0.118823  ...         -0.035065\n",
              "comment_given             0.008198  ...          0.021232\n",
              "inactive_status           0.064912  ...          0.072894\n",
              "bug_occured              -0.129564  ...         -0.029758\n",
              "session_projects_added    0.107919  ...          0.018398\n",
              "session_likes_given      -0.111805  ...         -0.057032\n",
              "session_comments_given    0.087228  ...          0.010574\n",
              "inactive_duration         0.051335  ...          0.073598\n",
              "bugs_in_session          -0.160055  ...         -0.032970\n",
              "session_duration         -0.007147  ...          1.000000\n",
              "\n",
              "[13 rows x 13 columns]"
            ]
          },
          "metadata": {
            "tags": []
          },
          "execution_count": 234
        }
      ]
    },
    {
      "cell_type": "code",
      "metadata": {
        "id": "Rlyl7geTQLW0",
        "outputId": "da6f6206-353d-485b-b4e1-6ba68ad9bb81",
        "colab": {
          "base_uri": "https://localhost:8080/",
          "height": 400
        }
      },
      "source": [
        "sns.heatmap(df.corr())"
      ],
      "execution_count": null,
      "outputs": [
        {
          "output_type": "execute_result",
          "data": {
            "text/plain": [
              "<matplotlib.axes._subplots.AxesSubplot at 0x7f846f5700f0>"
            ]
          },
          "metadata": {
            "tags": []
          },
          "execution_count": 235
        },
        {
          "output_type": "display_data",
          "data": {
            "image/png": "[encoded data removed]",
            "text/plain": [
              "<Figure size 432x288 with 2 Axes>"
            ]
          },
          "metadata": {
            "tags": [],
            "needs_background": "light"
          }
        }
      ]
    },
    {
      "cell_type": "markdown",
      "metadata": {
        "id": "tvvRGegpsQTa"
      },
      "source": [
        "There are some highly correlated pairs of varialbes in the dataset:\n",
        "* session_projects_added vs. projects_added\n",
        "* session_likes_given vs. likes_given\n",
        "* session_comments_given vs. comment_given\n",
        "* inactive_duration vs. inactive_status\n",
        "* bugs_in_session vs. bug_occured\n",
        "\n",
        "All of these pairs make sense, since they are categorical vs. quantitative correspondingly. "
      ]
    },
    {
      "cell_type": "markdown",
      "metadata": {
        "id": "LaLW2GDdtH4V"
      },
      "source": [
        "## **Conclusion**\n",
        "\n",
        "- 62.5% of people logged into their account more than once, and median number of looging into the account is 4.5.\n",
        "- On average, there are 10 sessions created each day. \n",
        "- 75.6% sessions were created with projects added.\n",
        "- About 70% of people would like to give likes.\n",
        "- About 75% sessions have comments created.\n",
        "- More than 75% sessions have duration more than 10 minutes on the account.\n",
        "- Almost 100% sessions would at least do one thing: add projects or give likes or comment.\n",
        "- Largest number of bugs occurred is 5.\n"
      ]
    },
    {
      "cell_type": "markdown",
      "metadata": {
        "id": "NRX5rkmHzNA5"
      },
      "source": [
        "## **Future**\n",
        "\n",
        "* How to control the number of bugs occurred in each session. \n",
        "* How to increase number of times people log into the account and the session duration. \n",
        "* How to encourage users to engage more: add projects, give likes and comments. "
      ]
    }
  ]
}